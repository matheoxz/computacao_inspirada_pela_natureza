{
 "cells": [
  {
   "cell_type": "code",
   "execution_count": null,
   "metadata": {},
   "outputs": [],
   "source": [
    "from ucimlrepo import fetch_ucirepo \n",
    "import pandas as pd\n",
    "from keras.models import Sequential\n",
    "from keras.layers import Dense, Input\n",
    "from sklearn.model_selection import train_test_split\n",
    "from sklearn.metrics import accuracy_score, confusion_matrix, ConfusionMatrixDisplay\n",
    "import numpy as np\n",
    "import matplotlib.pyplot as plt"
   ]
  },
  {
   "cell_type": "code",
   "execution_count": null,
   "metadata": {},
   "outputs": [],
   "source": [
    "# Baixa dataset\n",
    "mushroom = fetch_ucirepo(id=73) \n",
    "  \n",
    "# data (pandas dataframes) \n",
    "X = mushroom.data.features \n",
    "y = mushroom.data.targets "
   ]
  },
  {
   "cell_type": "code",
   "execution_count": null,
   "metadata": {},
   "outputs": [],
   "source": [
    "# one hot encode em todas as características e classes\n",
    "X = pd.get_dummies(X)\n",
    "y = pd.get_dummies(y)"
   ]
  },
  {
   "cell_type": "code",
   "execution_count": null,
   "metadata": {},
   "outputs": [],
   "source": [
    "# Separa entre treino e teste + validação\n",
    "X_train, X_test, y_train, y_test = train_test_split(X, y, test_size=0.3, random_state=42)\n",
    "\n",
    "# separa entre validação e teste\n",
    "X_test, X_val, y_test, y_val = train_test_split(X_train, y_train, test_size=0.5, random_state=42)"
   ]
  },
  {
   "cell_type": "code",
   "execution_count": null,
   "metadata": {},
   "outputs": [],
   "source": [
    "# cria rede neural com duas camadas escondidas \n",
    "classificador = Sequential([\n",
    "    Input((X_train.shape[1],)),\n",
    "    Dense(22, activation='relu'),\n",
    "    Dense(11, activation='relu'),\n",
    "    Dense(2, activation='sigmoid')])\n",
    "\n",
    "classificador.compile(optimizer = 'adam', loss='categorical_crossentropy', \n",
    "                      metrics = ['accuracy'],)"
   ]
  },
  {
   "cell_type": "code",
   "execution_count": null,
   "metadata": {},
   "outputs": [],
   "source": [
    "#treina a rede neural\n",
    "history = classificador.fit(X_train, y_train, batch_size=10, epochs=50,\n",
    "                  validation_data=(X_val, y_val))"
   ]
  },
  {
   "cell_type": "code",
   "execution_count": null,
   "metadata": {},
   "outputs": [],
   "source": [
    "# plota gráfico de perda\n",
    "plt.figure(figsize=(8, 6))\n",
    "plt.plot(history.history['loss'], label='Training Loss')\n",
    "plt.plot(history.history['val_loss'], label='Validation Loss')\n",
    "plt.title('Training and Validation Loss')\n",
    "plt.xlabel('Epochs')\n",
    "plt.ylabel('Loss')\n",
    "plt.legend()\n",
    "plt.show()"
   ]
  },
  {
   "cell_type": "code",
   "execution_count": null,
   "metadata": {},
   "outputs": [],
   "source": [
    "# Avalia o modelo no conjunto de validação\n",
    "score = classificador.evaluate(X_val, y_val, verbose=0)\n",
    "print('Perda validação:', score[0])\n",
    "print('Precisão validação:', score[1])"
   ]
  },
  {
   "cell_type": "code",
   "execution_count": null,
   "metadata": {},
   "outputs": [],
   "source": [
    "# Prediz o conjunto de teste\n",
    "y_pred = classificador.predict(X_test)\n",
    "# Se a probabilidade da classe for maior que 50%, então ela é a prevista fica com valor 1\n",
    "y_pred = (y_pred>0.5).astype(int)\n"
   ]
  },
  {
   "cell_type": "code",
   "execution_count": null,
   "metadata": {},
   "outputs": [],
   "source": [
    "#calcula precisão teste\n",
    "acc_teste = accuracy_score(y_test.astype(int), y_pred)\n",
    "print(\"Precisão teste: \", acc_teste)"
   ]
  },
  {
   "cell_type": "code",
   "execution_count": null,
   "metadata": {},
   "outputs": [],
   "source": [
    "#matriz de confusão\n",
    "cm = confusion_matrix(np.argmax(y_test,axis = 1), np.argmax(y_pred,axis = 1))"
   ]
  },
  {
   "cell_type": "code",
   "execution_count": null,
   "metadata": {},
   "outputs": [],
   "source": [
    "cmd = ConfusionMatrixDisplay(cm)\n",
    "cmd.plot()\n",
    "ax = plt.gca()\n",
    "ax.set_title(\"Matriz de Confusão Teste\")\n",
    "plt.show()"
   ]
  }
 ],
 "metadata": {
  "kernelspec": {
   "display_name": "base",
   "language": "python",
   "name": "python3"
  },
  "language_info": {
   "codemirror_mode": {
    "name": "ipython",
    "version": 3
   },
   "file_extension": ".py",
   "mimetype": "text/x-python",
   "name": "python",
   "nbconvert_exporter": "python",
   "pygments_lexer": "ipython3",
   "version": "3.11.5"
  }
 },
 "nbformat": 4,
 "nbformat_minor": 2
}
